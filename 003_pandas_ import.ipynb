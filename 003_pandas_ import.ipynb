##**Let's get started with the exciting part!! Let's create our first Pandas DataFrame!!**🐼


### Using a 2-D NumPy array

# Creating our first DataFrame
some_2D_array = np.random.randint(4, 6,(3,4))
print(some_2D_array)
first_dataframe = pd.DataFrame(some_2D_array , columns=['Akshay','Devashish','Divy','Monika'])
first_dataframe

# Lets create the same dataframe but different indices
another_dataframe = pd.DataFrame(some_2D_array, columns=['A','B','C','D'],index = ['First','Second','Third'])
another_dataframe

### Using a conventional list of lists

# Initialize list of lists
list_of_lists = [['Amar', 10], ['Akbar', 15], ['Anthony', 14]]

# Create the pandas DataFrame
df = pd.DataFrame(list_of_lists, columns = ['Name', 'Age'])

# Print dataframe
df

### Using a dictionary

# Store the data in a dictionary
employee_dict = {'Employee Name':['Rajeev', 'Sumit', 'Aviral'], 'Income':[200000, 140000, 90000]}

# Create DataFrame
employee_df = pd.DataFrame(employee_dict)

# Print the dataframe
employee_df

# Store the data in a dictionary
series_dict = {'First Series' : pd.Series([10, 20, 30, 40]),
              'Second Series' : pd.Series([10, 20, 30, 40])}

# Create the Dataframe using the dictionary
df = pd.DataFrame(series_dict)

# Print the dataframe
df

### Using a list of dictionaries

# Initialise the list of dictionaries
list_of_dicts = [{'a': 1, 'b': 2, 'c':3}, {'a':10, 'b': 20, 'c': 30}]

# Create the DataFrame
df = pd.DataFrame(list_of_dicts)

# Print the dataframe
df

# What happens if the number of keys are different in the two dictionaries
list_of_dicts = [{'a': 2, 'c':3}, {'a': 10, 'b': 20, 'c': 30}]
df = pd.DataFrame(list_of_dicts, index =['first', 'second'])
df

### There are other ways too!

# List of names
actor_names = ['Ryan Reynolds', 'Benedict Cumberbatch', 'Robert Downey Jr.', 'Chris Evans']

# List of their ages
actor_ages = [48,62,54,np.nan ]

# Get the list of tuples by zipping the two lists together
list_of_tuples = list(zip(actor_names, actor_ages))

# Converting the list of tuples into pandas Dataframe
actor_df = pd.DataFrame(list_of_tuples, columns = ['Name', 'Age'])

# Print the dataframe
actor_df
